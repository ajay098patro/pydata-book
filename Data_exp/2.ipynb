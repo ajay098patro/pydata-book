{
 "cells": [
  {
   "cell_type": "code",
   "execution_count": null,
   "metadata": {},
   "outputs": [],
   "source": [
    "def oen(a,b):\n",
    "    return (a + b) ** 2\n",
    "\n",
    "tup = 4, 5, (6, 7), oen(tup[0],tup[1])\n",
    "tup\n",
    "\n"
   ]
  },
  {
   "cell_type": "code",
   "execution_count": null,
   "metadata": {},
   "outputs": [],
   "source": [
    "import requests\n",
    "\n",
    "url = 'https://icanhazdadjoke.com'\n",
    "response = requests.get(url)\n",
    "\n",
    "# Print the content of the response\n",
    "print(response.text)\n",
    "\n",
    "# Write the content of the response to a file\n",
    "with open('1.txt', 'w') as i:\n",
    "    i.write(response.text)\n"
   ]
  },
  {
   "cell_type": "code",
   "execution_count": 20,
   "metadata": {},
   "outputs": [
    {
     "data": {
      "text/plain": [
       "[3, 4, 5, 6, 7, 8, 9]"
      ]
     },
     "execution_count": 20,
     "metadata": {},
     "output_type": "execute_result"
    }
   ],
   "source": [
    "seq = [1, 2, 3, 4, 5, 6, 7, 8, 9]\n",
    "a,b,*_ =seq\n",
    "_"
   ]
  },
  {
   "cell_type": "code",
   "execution_count": 43,
   "metadata": {},
   "outputs": [
    {
     "name": "stdout",
     "output_type": "stream",
     "text": [
      "{'a': 'some value', 'b': [1, 2, 3, 4], 7: 'an integer', 5: 'some value', 'dummy': 'another value'}\n",
      "after deleting 7        : {'a': 'some value', 'b': [1, 2, 3, 4], 5: 'some value', 'dummy': 'another value'}\n",
      "another value\n",
      "after poping 'dummy'    : {'a': 'some value', 'b': [1, 2, 3, 4], 5: 'some value'}\n",
      "-------------------------------------------------------------------------------\n",
      "a b 5 |___| some value [1, 2, 3, 4] some value\n",
      "-------------------------------------------------------------------\n",
      "('a', 'some value')\n",
      "('b', [1, 2, 3, 4])\n",
      "(5, 'some value')\n",
      "{1: 3, 2: 3, 4: 3, 5: 3, 67: 3}\n"
     ]
    }
   ],
   "source": [
    "d = {'a': 'some value','b': [1, 2, 3, 4], 7: 'an integer', 5: 'some value','dummy': 'another value'}\n",
    "print(d)\n",
    "del d[7]\n",
    "print('after deleting 7        :', d) # notice 7 key:val is gone.\n",
    "a = d.pop('dummy')\n",
    "print(a) \n",
    "print(\"after poping 'dummy'    :\", d)\n",
    "\n",
    "print('-'*79)\n",
    "print(*d.keys(),'|___|',*d.values())\n",
    "print('-'*67,*d.items(),sep=\"\\n\")\n",
    "\n",
    "l=[1,2,4,5,67]\n",
    "m=[3,3,3,3,3]\n",
    "d1 = dict(zip(l,m)) # if there are two sequene and we want to create a dict of of this \n",
    "print(d1)"
   ]
  },
  {
   "cell_type": "code",
   "execution_count": 52,
   "metadata": {},
   "outputs": [
    {
     "data": {
      "text/plain": [
       "{'a': ['apple', 'atom'], 'b': ['bat', 'bar', 'book']}"
      ]
     },
     "execution_count": 52,
     "metadata": {},
     "output_type": "execute_result"
    }
   ],
   "source": [
    "words =[\"apple\", \"bat\", \"bar\", \"atom\", \"book\"]\n",
    "by_letter = {}\n",
    "for word in words:\n",
    "    letter = word[0]\n",
    "    if letter not in by_letter:\n",
    "        by_letter[letter] = [word] # this is where we are creating a list we we can append to it afterwards\n",
    "    else:\n",
    "        by_letter[letter].append(word)\n",
    "\n",
    "by_letter"
   ]
  },
  {
   "cell_type": "code",
   "execution_count": 6,
   "metadata": {},
   "outputs": [
    {
     "data": {
      "text/plain": [
       "{'a': ['apple', 'atom', 'ajay'],\n",
       " 'b': ['bat', 'bar', 'book', 'banji', 'bengulli'],\n",
       " 'p': ['patro', 'purno'],\n",
       " 's': ['shreejoni'],\n",
       " 'n': ['niharika'],\n",
       " 'k': ['koni']}"
      ]
     },
     "execution_count": 6,
     "metadata": {},
     "output_type": "execute_result"
    }
   ],
   "source": [
    "words = [\"apple\", \"bat\", \"bar\", \"atom\", \"book\",\"ajay\",\"patro\",\"purno\",\"shreejoni\",\"niharika\",\"banji\",\"koni\",\"bengulli\"]\n",
    "by_letter = {}\n",
    "\n",
    "for i in words:\n",
    "    L = i[0]\n",
    "    if L not in by_letter:\n",
    "        by_letter[L] = [i] # remember that we are trying to create a list hence [i] NOT by_letter[L] = i \n",
    "    else:\n",
    "        by_letter[L].append(i)\n",
    "\n",
    "by_letter\n"
   ]
  },
  {
   "cell_type": "code",
   "execution_count": 45,
   "metadata": {},
   "outputs": [
    {
     "name": "stdout",
     "output_type": "stream",
     "text": [
      "{1: 3, 2: 4, 3: 5, 4: 6, 5: 7}\n"
     ]
    }
   ],
   "source": [
    "a = {1,2,3,4,5}\n",
    "b = {3, 4, 5, 6, 7, 8}\n",
    "c = zip(a,b)\n",
    "print(dict(c))"
   ]
  },
  {
   "cell_type": "code",
   "execution_count": 54,
   "metadata": {},
   "outputs": [
    {
     "data": {
      "text/plain": [
       "{99: 9, 98: 8, 97: 7, 96: 6, 95: 5, 94: 4, 93: 3, 92: 2, 91: 1, 90: 0}"
      ]
     },
     "execution_count": 54,
     "metadata": {},
     "output_type": "execute_result"
    }
   ],
   "source": [
    "dict(zip(reversed(range(89,100)),reversed(range(10))))"
   ]
  }
 ],
 "metadata": {
  "kernelspec": {
   "display_name": "myenv",
   "language": "python",
   "name": "python3"
  },
  "language_info": {
   "codemirror_mode": {
    "name": "ipython",
    "version": 3
   },
   "file_extension": ".py",
   "mimetype": "text/x-python",
   "name": "python",
   "nbconvert_exporter": "python",
   "pygments_lexer": "ipython3",
   "version": "3.11.8"
  }
 },
 "nbformat": 4,
 "nbformat_minor": 2
}
